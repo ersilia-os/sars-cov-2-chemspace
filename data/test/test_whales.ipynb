{
 "cells": [
  {
   "cell_type": "code",
   "execution_count": 12,
   "metadata": {},
   "outputs": [],
   "source": [
    "import pandas as pd\n",
    "\n",
    "df = pd.read_csv(\"osm.csv\")\n",
    "df[\"bin\"] = [1 if x <= 2.5 else 0 for x in df[\"activity\"]]\n",
    "\n",
    "eos24ur = pd.read_csv(\"osm_eos24ur.csv\")\n",
    "eos3ae6 = pd.read_csv(\"osm_eos3ae6.csv\")"
   ]
  },
  {
   "cell_type": "code",
   "execution_count": 13,
   "metadata": {},
   "outputs": [],
   "source": [
    "eos24ur = eos24ur.iloc[:, 2:]\n",
    "eos3ae6 = eos3ae6.iloc[:, 2:]"
   ]
  },
  {
   "cell_type": "code",
   "execution_count": 14,
   "metadata": {},
   "outputs": [],
   "source": [
    "from sklearn.model_selection import train_test_split\n",
    "from sklearn.ensemble import RandomForestClassifier\n",
    "from sklearn.metrics import classification_report, accuracy_score, roc_auc_score\n",
    "\n",
    "def create_train_test_split(X, y, test_size=0.2, random_state=42):\n",
    "    \"\"\"\n",
    "    Create a balanced train-test split.\n",
    "    \n",
    "    Parameters:\n",
    "    X (DataFrame): Features dataframe.\n",
    "    y (DataFrame or Series): Endpoints dataframe or series (target values).\n",
    "    test_size (float): Proportion of the dataset to include in the test split.\n",
    "    random_state (int): Random seed for reproducibility.\n",
    "\n",
    "    Returns:\n",
    "    X_train, X_test, y_train, y_test: Split datasets.\n",
    "    \"\"\"\n",
    "    X_train, X_test, y_train, y_test = train_test_split(X, y, test_size=test_size, stratify=y, random_state=random_state)\n",
    "    return X_train, X_test, y_train, y_test\n",
    "\n",
    "\n",
    "def train_and_validate_rf(X_train, y_train, X_test, y_test):\n",
    "    \"\"\"\n",
    "    Train a Random Forest classifier and validate its performance using AUROC.\n",
    "    \n",
    "    Parameters:\n",
    "    X_train (DataFrame): Training features.\n",
    "    y_train (DataFrame or Series): Training labels.\n",
    "    X_test (DataFrame): Testing features.\n",
    "    y_test (DataFrame or Series): Testing labels.\n",
    "\n",
    "    Returns:\n",
    "    model (RandomForestClassifier): Trained Random Forest model.\n",
    "    y_pred (array): Predictions on the test set.\n",
    "    \"\"\"\n",
    "    # Initialize the Random Forest classifier\n",
    "    model = RandomForestClassifier(random_state=42)\n",
    "\n",
    "    # Train the model\n",
    "    model.fit(X_train, y_train)\n",
    "\n",
    "    # Predict on the test set\n",
    "    y_pred = model.predict(X_test)\n",
    "    y_pred_proba = model.predict_proba(X_test)[:, 1]\n",
    "\n",
    "    # Validate the performance\n",
    "    accuracy = accuracy_score(y_test, y_pred)\n",
    "    auroc = roc_auc_score(y_test, y_pred_proba)\n",
    "    report = classification_report(y_test, y_pred)\n",
    "\n",
    "    print(f\"Accuracy: {accuracy:.2f}\")\n",
    "    print(f\"AUROC: {auroc:.2f}\")\n",
    "    print(\"Classification Report:\")\n",
    "    print(report)\n",
    "\n",
    "    return model, y_pred\n"
   ]
  },
  {
   "cell_type": "code",
   "execution_count": 15,
   "metadata": {},
   "outputs": [
    {
     "name": "stdout",
     "output_type": "stream",
     "text": [
      "Accuracy: 0.69\n",
      "AUROC: 0.77\n",
      "Classification Report:\n",
      "              precision    recall  f1-score   support\n",
      "\n",
      "           0       0.70      0.79      0.75        48\n",
      "           1       0.66      0.54      0.59        35\n",
      "\n",
      "    accuracy                           0.69        83\n",
      "   macro avg       0.68      0.67      0.67        83\n",
      "weighted avg       0.68      0.69      0.68        83\n",
      "\n"
     ]
    }
   ],
   "source": [
    "X_train, X_test, y_train, y_test = create_train_test_split(eos24ur, df[\"bin\"])\n",
    "model, y_pred = train_and_validate_rf(X_train, y_train, X_test, y_test)"
   ]
  },
  {
   "cell_type": "code",
   "execution_count": 16,
   "metadata": {},
   "outputs": [
    {
     "name": "stdout",
     "output_type": "stream",
     "text": [
      "Accuracy: 0.67\n",
      "AUROC: 0.75\n",
      "Classification Report:\n",
      "              precision    recall  f1-score   support\n",
      "\n",
      "           0       0.69      0.79      0.74        48\n",
      "           1       0.64      0.51      0.57        35\n",
      "\n",
      "    accuracy                           0.67        83\n",
      "   macro avg       0.67      0.65      0.65        83\n",
      "weighted avg       0.67      0.67      0.67        83\n",
      "\n"
     ]
    }
   ],
   "source": [
    "X_train, X_test, y_train, y_test = create_train_test_split(eos3ae6, df[\"bin\"])\n",
    "model, y_pred = train_and_validate_rf(X_train, y_train, X_test, y_test)"
   ]
  },
  {
   "cell_type": "code",
   "execution_count": 17,
   "metadata": {},
   "outputs": [
    {
     "data": {
      "text/plain": [
       "<matplotlib.collections.PathCollection at 0x7d0e3a11ea90>"
      ]
     },
     "execution_count": 17,
     "metadata": {},
     "output_type": "execute_result"
    },
    {
     "data": {
      "image/png": "[encoded data removed]",
      "text/plain": [
       "<Figure size 640x480 with 1 Axes>"
      ]
     },
     "metadata": {},
     "output_type": "display_data"
    }
   ],
   "source": [
    "import matplotlib.pyplot as plt\n",
    "\n",
    "plt.scatter(eos24ur, eos3ae6)"
   ]
  },
  {
   "cell_type": "code",
   "execution_count": 21,
   "metadata": {},
   "outputs": [
    {
     "name": "stdout",
     "output_type": "stream",
     "text": [
      "Accuracy: 0.77\n",
      "AUROC: 0.86\n",
      "Classification Report:\n",
      "              precision    recall  f1-score   support\n",
      "\n",
      "           0       0.89      0.69      0.78        48\n",
      "           1       0.67      0.89      0.77        35\n",
      "\n",
      "    accuracy                           0.77        83\n",
      "   macro avg       0.78      0.79      0.77        83\n",
      "weighted avg       0.80      0.77      0.77        83\n",
      "\n"
     ]
    }
   ],
   "source": [
    "eos4wt0 = pd.read_csv(\"osm_eos4wt0.csv\")\n",
    "eos4wt0 = eos4wt0.iloc[:, 2:]\n",
    "X_train, X_test, y_train, y_test = create_train_test_split(eos4wt0, df[\"bin\"])\n",
    "model, y_pred = train_and_validate_rf(X_train, y_train, X_test, y_test)"
   ]
  },
  {
   "cell_type": "code",
   "execution_count": null,
   "metadata": {},
   "outputs": [],
   "source": []
  }
 ],
 "metadata": {
  "kernelspec": {
   "display_name": "chem",
   "language": "python",
   "name": "python3"
  },
  "language_info": {
   "codemirror_mode": {
    "name": "ipython",
    "version": 3
   },
   "file_extension": ".py",
   "mimetype": "text/x-python",
   "name": "python",
   "nbconvert_exporter": "python",
   "pygments_lexer": "ipython3",
   "version": "3.11.8"
  }
 },
 "nbformat": 4,
 "nbformat_minor": 2
}
