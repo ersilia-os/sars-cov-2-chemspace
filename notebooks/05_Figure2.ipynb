{
 "cells": [
  {
   "cell_type": "markdown",
   "metadata": {},
   "source": [
    "# Figure 2\n",
    "\n",
    "This notebook produces the subplots necessary for Figure 2 of the manuscript. Plots are stored in the `assets` subfolder."
   ]
  },
  {
   "cell_type": "code",
   "execution_count": 99,
   "metadata": {},
   "outputs": [],
   "source": [
    "import stylia\n",
    "import numpy as np\n",
    "import matplotlib.pyplot as plt\n",
    "import pandas as pd\n",
    "import collections\n",
    "from stylia.colors.colors import NamedColors, ContinuousColorMap\n",
    "from stylia import TWO_COLUMNS_WIDTH"
   ]
  },
  {
   "cell_type": "markdown",
   "metadata": {},
   "source": [
    "## Cumulative plot by similarity\n",
    "\n",
    "This plot simply calculates the number of CHEESE hits by similarity threshold."
   ]
  },
  {
   "cell_type": "code",
   "execution_count": 70,
   "metadata": {},
   "outputs": [
    {
     "data": {
      "image/png": "[encoded data removed]",
      "text/plain": [
       "<Figure size 177.25x212.7 with 1 Axes>"
      ]
     },
     "metadata": {},
     "output_type": "display_data"
    }
   ],
   "source": [
    "def cumulative_points(values):\n",
    "    x = np.arange(0, 1.01, 0.01)\n",
    "    y = []\n",
    "    for x_ in x:\n",
    "        y += [np.sum(values >= x_)]\n",
    "    return np.array(y)\n",
    "\n",
    "df = pd.read_csv(\"../results/cheese_popular_hits.csv\")\n",
    "cumulative_points(df[\"consensus_max_score\"])\n",
    "\n",
    "x = np.arange(0, 1.01, 0.01)\n",
    "ye = cumulative_points(df[df[\"database\"] == \"enamine-real\"][\"consensus_max_score\"])\n",
    "yz = cumulative_points(df[df[\"database\"] == \"zinc15\"][\"consensus_max_score\"])\n",
    "\n",
    "fig, axs = stylia.create_figure(\n",
    "    1, 1, width=TWO_COLUMNS_WIDTH * 0.25, height=TWO_COLUMNS_WIDTH * 0.3\n",
    ")\n",
    "ax = axs.next()\n",
    "ax.plot(x, np.log10(ye), label=\"Enamine REAL\", color=named_colors.blue, lw=1.2)\n",
    "ax.plot(x, np.log10(ye + yz), label=\"ZINC\", color=named_colors.red, lw=1.2)\n",
    "ax.set_xlim(-0.05, 1.05)\n",
    "ax.set_ylim(-0.1, 5.1)\n",
    "stylia.label(\n",
    "    ax,\n",
    "    title=\"Consensus search\",\n",
    "    xlabel=\"Similarity score\",\n",
    "    ylabel=\"CHEESE hits (log10)\",\n",
    ")\n",
    "stylia.save_figure(\"../figures/f2_a.png\")"
   ]
  },
  {
   "cell_type": "markdown",
   "metadata": {},
   "source": [
    "## CHEESE search aggregates\n",
    "\n",
    "This panel shows aggregate data from the CHEESE search results. This is a complex plot that will allow us to discuss the differences between querying with different types of CHEESE similarities."
   ]
  },
  {
   "cell_type": "code",
   "execution_count": 68,
   "metadata": {},
   "outputs": [
    {
     "data": {
      "image/png": "[encoded data removed]",
      "text/plain": [
       "<Figure size 212.7x212.7 with 1 Axes>"
      ]
     },
     "metadata": {},
     "output_type": "display_data"
    }
   ],
   "source": [
    "df = pd.read_csv(\"../results/cheese_search_aggregate.csv\")\n",
    "\n",
    "df_syn = df[df[\"category\"] == \"synthetic\"]\n",
    "df_nat = df[df[\"category\"] == \"natural\"]\n",
    "\n",
    "fig, axs = stylia.create_figure(\n",
    "    1, 1, width=TWO_COLUMNS_WIDTH * 0.3, height=TWO_COLUMNS_WIDTH * 0.3\n",
    ")\n",
    "\n",
    "ax = axs.next()\n",
    "\n",
    "statistic = \"median\"\n",
    "\n",
    "df_syn = df[df[\"category\"] == \"synthetic\"]\n",
    "df_nat = df[df[\"category\"] == \"natural\"]\n",
    "df_znc_syn = df_syn[df_syn[\"database\"] == \"zinc15\"]\n",
    "df_znc_nat = df_nat[df_nat[\"database\"] == \"zinc15\"]\n",
    "df_ena_syn = df_syn[df_syn[\"database\"] == \"enamine-real\"]\n",
    "df_ena_nat = df_nat[df_nat[\"database\"] == \"enamine-real\"]\n",
    "\n",
    "named_colors = NamedColors()\n",
    "\n",
    "database_colors = {\"zinc15\": named_colors.blue, \"enamine-real\": named_colors.red}\n",
    "search_type_colors = {\n",
    "    \"consensus\": named_colors.black,\n",
    "    \"morgan\": named_colors.green,\n",
    "    \"espsim_shape\": named_colors.purple,\n",
    "    \"espsim_electrostatic\": named_colors.orange,\n",
    "}\n",
    "\n",
    "search_type_syns = {\n",
    "    \"consensus\": \"Consensus\",\n",
    "    \"morgan\": \"Morgan\",\n",
    "    \"espsim_shape\": \"Shape\",\n",
    "    \"espsim_electrostatic\": \"Electrostatic\",\n",
    "}\n",
    "\n",
    "ax.plot([0, 1], [0, 1], color=\"black\", linestyle=\"--\")\n",
    "\n",
    "categories = [\"synthetic\", \"natural\"]\n",
    "databases = [\"zinc15\", \"enamine-real\"]\n",
    "search_types = [\"consensus\", \"morgan\", \"espsim_shape\", \"espsim_electrostatic\"]\n",
    "for s in search_types:\n",
    "    edge_x = []\n",
    "    edge_y = []\n",
    "    for d in databases:\n",
    "        db = df[df[\"database\"] == d]\n",
    "        db = db[db[\"search_type\"] == s]\n",
    "        dx = db[db[\"category\"] == categories[0]]\n",
    "        dy = db[db[\"category\"] == categories[1]]\n",
    "        size = np.sqrt(np.sum(db[\"counts\"]))*0.2\n",
    "        ax.scatter(\n",
    "            dx[statistic],\n",
    "            dy[statistic],\n",
    "            color=database_colors[d],\n",
    "            edgecolors=search_type_colors[s],\n",
    "            zorder=1000,\n",
    "            s=size,\n",
    "        )\n",
    "        edge_x += [dx[statistic]]\n",
    "        edge_y += [dy[statistic]]\n",
    "    ax.plot(edge_x, edge_y, color=search_type_colors[s], lw=1.2, label=search_type_syns[s])\n",
    "\n",
    "ax.legend()\n",
    "ax.set_xlim(0.21, 0.49)\n",
    "ax.set_ylim(0.21, 0.49)\n",
    "stylia.label(\n",
    "    ax,\n",
    "    title=\"CHEESE similarity scores\",\n",
    "    xlabel=\"Synthetic compounds\",\n",
    "    ylabel=\"Natural compounds\",\n",
    ")\n",
    "stylia.save_figure(\"../figures/f2_b.png\")"
   ]
  },
  {
   "cell_type": "markdown",
   "metadata": {},
   "source": [
    "# CHEESE popular hits in the top 100\n",
    "\n",
    "This plot analyses the hits and measures the number of natural products and synthetic products similar to them."
   ]
  },
  {
   "cell_type": "code",
   "execution_count": 112,
   "metadata": {},
   "outputs": [
    {
     "data": {
      "image/png": "[encoded data removed]",
      "text/plain": [
       "<Figure size 141.8x141.8 with 1 Axes>"
      ]
     },
     "metadata": {},
     "output_type": "display_data"
    }
   ],
   "source": [
    "df = pd.read_csv(\"../results/cheese_popular_hits.csv\")\n",
    "df = df[(df[\"consensus_syn_hits\"] > 0) | (df[\"consensus_nat_hits\"] > 0)]\n",
    "\n",
    "fig, axs = stylia.create_figure(1, 1, width=TWO_COLUMNS_WIDTH * 0.2, height= TWO_COLUMNS_WIDTH * 0.2)\n",
    "ax = axs.next()\n",
    "\n",
    "values = \"consensus_syn_hits\", \"consensus_nat_hits\"\n",
    "\n",
    "x, y = df[values[0]].tolist(), df[values[1]].tolist()\n",
    "counts = collections.defaultdict(int)\n",
    "for x_, y_ in zip(x, y):\n",
    "    counts[(x_, y_)] += 1\n",
    "\n",
    "x = []\n",
    "y = []\n",
    "z = []\n",
    "for k, v in counts.items():\n",
    "    x += [k[0]]\n",
    "    y += [k[1]]\n",
    "    z += [v]\n",
    "\n",
    "cmap = ContinuousColorMap()\n",
    "cmap.fit(z)\n",
    "colors = cmap.transform(z)\n",
    "\n",
    "ax.scatter(x, y, color=colors, s=1)\n",
    "ax.set_xticks(np.arange(0, 26, 5))\n",
    "ax.set_yticks(np.arange(0, 26, 5))\n",
    "ax.set_xlim(-1, 26)\n",
    "ax.set_ylim(-1, 26)\n",
    "plt.tight_layout()\n",
    "\n",
    "stylia.label(ax, title=\"CHEESE hits @ 100\", xlabel=\"Synthetic compounds\", ylabel=\"Natural compounds\")\n",
    "plt.tight_layout()\n",
    "stylia.save_figure(\"../figures/f2_c.png\")"
   ]
  },
  {
   "cell_type": "markdown",
   "metadata": {},
   "source": [
    "## Classifier outputs"
   ]
  },
  {
   "cell_type": "code",
   "execution_count": 131,
   "metadata": {},
   "outputs": [],
   "source": [
    "df = pd.read_csv(\"../results/cheese_search_flat_ranked.csv\")"
   ]
  },
  {
   "cell_type": "code",
   "execution_count": 132,
   "metadata": {},
   "outputs": [
    {
     "data": {
      "text/plain": [
       "(array([1532., 1531., 1532., 1531., 1532., 1531., 1532., 1531., 1532.,\n",
       "        1532., 1531., 1531., 1532., 1531., 1532., 1531., 1532., 1531.,\n",
       "        1532., 1531., 1532., 1531., 1532., 1531., 1532., 1531., 1532.,\n",
       "        1531., 1532., 1531., 1532., 1531., 1532., 1531., 1532., 1531.,\n",
       "        1532., 1531., 1532., 1531., 1532., 1531., 1532., 1531., 1532.,\n",
       "        1531., 1532., 1531., 1532., 1531., 1532., 1531., 1532., 1532.,\n",
       "        1531., 1531., 1532., 1531., 1532., 1531., 1532., 1531., 1532.,\n",
       "        1531., 1532., 1531., 1532., 1531., 1532., 1532., 1531., 1531.,\n",
       "        1532., 1531., 1532., 1531., 1532., 1532., 1531., 1531., 1532.,\n",
       "        1531., 1532., 1531., 1532., 1532., 1531., 1531., 1532., 1531.,\n",
       "        1532., 1531., 1532., 1532., 1531., 1532., 1531., 1531., 1532.,\n",
       "        1532.]),\n",
       " array([6.52950356e-04, 1.00064642e+00, 2.00063989e+00, 3.00063336e+00,\n",
       "        4.00062683e+00, 5.00062030e+00, 6.00061377e+00, 7.00060724e+00,\n",
       "        8.00060071e+00, 9.00059418e+00, 1.00005877e+01, 1.10005811e+01,\n",
       "        1.20005746e+01, 1.30005681e+01, 1.40005615e+01, 1.50005550e+01,\n",
       "        1.60005485e+01, 1.70005419e+01, 1.80005354e+01, 1.90005289e+01,\n",
       "        2.00005224e+01, 2.10005158e+01, 2.20005093e+01, 2.30005028e+01,\n",
       "        2.40004962e+01, 2.50004897e+01, 2.60004832e+01, 2.70004767e+01,\n",
       "        2.80004701e+01, 2.90004636e+01, 3.00004571e+01, 3.10004505e+01,\n",
       "        3.20004440e+01, 3.30004375e+01, 3.40004309e+01, 3.50004244e+01,\n",
       "        3.60004179e+01, 3.70004114e+01, 3.80004048e+01, 3.90003983e+01,\n",
       "        4.00003918e+01, 4.10003852e+01, 4.20003787e+01, 4.30003722e+01,\n",
       "        4.40003657e+01, 4.50003591e+01, 4.60003526e+01, 4.70003461e+01,\n",
       "        4.80003395e+01, 4.90003330e+01, 5.00003265e+01, 5.10003199e+01,\n",
       "        5.20003134e+01, 5.30003069e+01, 5.40003004e+01, 5.50002938e+01,\n",
       "        5.60002873e+01, 5.70002808e+01, 5.80002742e+01, 5.90002677e+01,\n",
       "        6.00002612e+01, 6.10002547e+01, 6.20002481e+01, 6.30002416e+01,\n",
       "        6.40002351e+01, 6.50002285e+01, 6.60002220e+01, 6.70002155e+01,\n",
       "        6.80002089e+01, 6.90002024e+01, 7.00001959e+01, 7.10001894e+01,\n",
       "        7.20001828e+01, 7.30001763e+01, 7.40001698e+01, 7.50001632e+01,\n",
       "        7.60001567e+01, 7.70001502e+01, 7.80001436e+01, 7.90001371e+01,\n",
       "        8.00001306e+01, 8.10001241e+01, 8.20001175e+01, 8.30001110e+01,\n",
       "        8.40001045e+01, 8.50000979e+01, 8.60000914e+01, 8.70000849e+01,\n",
       "        8.80000784e+01, 8.90000718e+01, 9.00000653e+01, 9.10000588e+01,\n",
       "        9.20000522e+01, 9.30000457e+01, 9.40000392e+01, 9.50000326e+01,\n",
       "        9.60000261e+01, 9.70000196e+01, 9.80000131e+01, 9.90000065e+01,\n",
       "        1.00000000e+02]),\n",
       " <BarContainer object of 100 artists>)"
      ]
     },
     "execution_count": 132,
     "metadata": {},
     "output_type": "execute_result"
    },
    {
     "data": {
      "image/png": "[encoded data removed]",
      "text/plain": [
       "<Figure size 640x480 with 1 Axes>"
      ]
     },
     "metadata": {},
     "output_type": "display_data"
    }
   ],
   "source": [
    "plt.hist(df[\"tot_rank\"], bins=100, color=named_colors.blue)"
   ]
  },
  {
   "cell_type": "code",
   "execution_count": null,
   "metadata": {},
   "outputs": [],
   "source": []
  }
 ],
 "metadata": {
  "kernelspec": {
   "display_name": "bdfigs",
   "language": "python",
   "name": "python3"
  },
  "language_info": {
   "codemirror_mode": {
    "name": "ipython",
    "version": 3
   },
   "file_extension": ".py",
   "mimetype": "text/x-python",
   "name": "python",
   "nbconvert_exporter": "python",
   "pygments_lexer": "ipython3",
   "version": "3.10.10"
  }
 },
 "nbformat": 4,
 "nbformat_minor": 2
}
