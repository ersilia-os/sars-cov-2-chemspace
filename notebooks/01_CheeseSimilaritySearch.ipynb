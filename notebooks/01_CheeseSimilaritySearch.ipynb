{
 "cells": [
  {
   "cell_type": "markdown",
   "metadata": {},
   "source": [
    "https://cheese-docs.deepmedchem.com/getting_started-api/"
   ]
  },
  {
   "cell_type": "code",
   "execution_count": null,
   "metadata": {},
   "outputs": [],
   "source": [
    "import os\n",
    "import pandas as pd\n",
    "from dotenv import load_dotenv\n",
    "import time\n",
    "from rdkit import Chem\n",
    "\n",
    "load_dotenv(\"../.env\")\n",
    "CHEESE_API_KEY = os.getenv(\"CHEESE_API_KEY\")\n"
   ]
  },
  {
   "cell_type": "code",
   "execution_count": null,
   "metadata": {},
   "outputs": [],
   "source": [
    "import requests\n",
    "\n",
    "\n",
    "def _query_molecule(smiles, search_type, search_quality, n_neighbors):\n",
    "    inchikey = Chem.MolToInchiKey(Chem.MolFromSmiles(smiles))\n",
    "    api_key = CHEESE_API_KEY\n",
    "    data = requests.get(\"https://api.cheese.themama.ai/molsearch\",\n",
    "                        {\"search_input\": smiles,\n",
    "                        \"search_type\": search_type,\n",
    "                        \"n_neighbors\": n_neighbors,\n",
    "                        \"search_quality\": search_quality,\n",
    "                        \"descriptors\": False,\n",
    "                        \"properties\": False,\n",
    "                        \"filter_molecules\": True},\n",
    "                        headers={'Authorization': f\"Bearer {api_key}\"},\n",
    "                        verify=False).json()\n",
    "    R = []\n",
    "    for r in data[\"neighbors\"]:\n",
    "        identifier = r[\"zinc_id\"]\n",
    "        if identifier.startswith(\"ZINC\"):\n",
    "            database = \"zinc15\"\n",
    "        elif identifier.startswith(\"ENAMINE\"):\n",
    "            database = \"enamine-real\"\n",
    "        else:\n",
    "            database = None\n",
    "        R += [[smiles, inchikey, r[\"smiles\"], identifier, search_type, r[\"Morgan Tanimoto\"], database]]\n",
    "    df = pd.DataFrame(R, columns=[\"query_smiles\", \"query_inchikey\", \"smiles\", \"identifier\", \"search_type\", \"score\", \"database\"]).sort_values(\"score\", ascending=False).reset_index(drop=True)\n",
    "    return df\n",
    "\n",
    "\n",
    "def query_molecule(smiles, search_type=\"consensus\", search_quality=\"very accurate\", n_neighbors=100):\n",
    "    for _ in range(10):\n",
    "        try:\n",
    "            df = _query_molecule(smiles, search_type=search_type, search_quality=search_quality, n_neighbors=n_neighbors)\n",
    "            if df.shape[0] == n_neighbors:\n",
    "                return df\n",
    "        except:\n",
    "            print(\"Error, retrying in 5 seconds\")\n",
    "            time.sleep(5)\n",
    "\n",
    "\n",
    "def query_molecule_all_similarities(smiles, search_quality=\"very accurate\", n_neighbors=100):\n",
    "    search_types = [\"consensus\", \"morgan\", \"espsim_electrostatic\", \"espsim_shape\"]\n",
    "    dfs = []\n",
    "    for search_type in search_types:\n",
    "        print(smiles, search_type)\n",
    "        dfs += [query_molecule(smiles, search_type=search_type, search_quality=search_quality, n_neighbors=n_neighbors)]\n",
    "    df = pd.concat(dfs).reset_index(drop=True)\n",
    "    return df\n",
    "\n",
    "\n",
    "def run(smiles):\n",
    "    inchikey = Chem.MolToInchiKey(Chem.MolFromSmiles(smiles))\n",
    "    file_name = os.path.join(\"..\", \"results\", \"cheese\", f\"{inchikey}.csv\")\n",
    "    if os.path.exists(file_name):\n",
    "        print(\"Already done for\", inchikey)\n",
    "        return\n",
    "    df = query_molecule_all_similarities(smiles)\n",
    "    df.to_csv(file_name, index=False)"
   ]
  },
  {
   "cell_type": "code",
   "execution_count": null,
   "metadata": {},
   "outputs": [],
   "source": [
    "smiles_list = pd.read_csv(\"../data/all_molecules.csv\")[\"smiles\"].tolist()"
   ]
  },
  {
   "cell_type": "code",
   "execution_count": null,
   "metadata": {},
   "outputs": [],
   "source": [
    "for smiles in smiles_list:\n",
    "    run(smiles)"
   ]
  },
  {
   "cell_type": "code",
   "execution_count": 13,
   "metadata": {},
   "outputs": [
    {
     "name": "stdout",
     "output_type": "stream",
     "text": [
      "Values present only in df1: 0\n",
      "Values present only in df2: 0\n"
     ]
    }
   ],
   "source": [
    "## REMOVE CHEESE QUERIES FOR SARSCOV1 MOLECULES\n",
    "# compare old vs new all molecules and keep the inchikeys of the ones only in old or only in new\n",
    "import pandas as pd\n",
    "\n",
    "df1 = pd.read_csv(\"../data/all_molecules_old.csv\")\n",
    "df2 = pd.read_csv(\"../data/all_molecules.csv\")\n",
    "\n",
    "# Convert inchikey columns to sets\n",
    "inchikey_set1 = set(df1['inchikey'])\n",
    "inchikey_set2 = set(df2['inchikey'])\n",
    "\n",
    "# Find values present only in df1\n",
    "only_in_df1 = list(inchikey_set1 - inchikey_set2)\n",
    "\n",
    "# Find values present only in df2\n",
    "only_in_df2 = list(inchikey_set2 - inchikey_set1)\n",
    "\n",
    "# Print the results\n",
    "print(\"Values present only in df1:\", len(only_in_df1))\n",
    "print(\"Values present only in df2:\", len(only_in_df2))"
   ]
  },
  {
   "cell_type": "code",
   "execution_count": null,
   "metadata": {},
   "outputs": [],
   "source": []
  }
 ],
 "metadata": {
  "kernelspec": {
   "display_name": "chempfn-paper",
   "language": "python",
   "name": "python3"
  },
  "language_info": {
   "codemirror_mode": {
    "name": "ipython",
    "version": 3
   },
   "file_extension": ".py",
   "mimetype": "text/x-python",
   "name": "python",
   "nbconvert_exporter": "python",
   "pygments_lexer": "ipython3",
   "version": "3.10.14"
  }
 },
 "nbformat": 4,
 "nbformat_minor": 2
}
