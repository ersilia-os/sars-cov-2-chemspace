{
 "cells": [
  {
   "cell_type": "markdown",
   "metadata": {},
   "source": [
    "https://cheese-docs.deepmedchem.com/getting_started-api/"
   ]
  },
  {
   "cell_type": "code",
   "execution_count": 41,
   "metadata": {},
   "outputs": [],
   "source": [
    "import os\n",
    "import pandas as pd\n",
    "from dotenv import load_dotenv\n",
    "\n",
    "load_dotenv(\"../.env\")\n",
    "CHEESE_API_KEY = os.getenv(\"CHEESE_API_KEY\")\n"
   ]
  },
  {
   "cell_type": "code",
   "execution_count": 65,
   "metadata": {},
   "outputs": [
    {
     "name": "stderr",
     "output_type": "stream",
     "text": [
      "/Users/mduranfrigola/miniconda3/envs/chemcrow/lib/python3.10/site-packages/urllib3/connectionpool.py:1103: InsecureRequestWarning: Unverified HTTPS request is being made to host 'api.cheese.themama.ai'. Adding certificate verification is strongly advised. See: https://urllib3.readthedocs.io/en/latest/advanced-usage.html#tls-warnings\n",
      "  warnings.warn(\n"
     ]
    }
   ],
   "source": [
    "import requests\n",
    "\n",
    "\n",
    "def query_molecule(smiles, search_type=\"consensus\", search_quality=\"fast\", n_neighbors=100):\n",
    "    api_key = CHEESE_API_KEY\n",
    "    data = requests.get(\"https://api.cheese.themama.ai/molsearch\",\n",
    "                        {\"search_input\": smiles,\n",
    "                        \"search_database\": \"enamine-real\",\n",
    "                        \"search_type\": search_type,\n",
    "                        \"n_neighbors\": n_neighbors,\n",
    "                        \"search_quality\": search_quality,\n",
    "                        \"descriptors\": False,\n",
    "                        \"properties\": False,\n",
    "                        \"filter_molecules\": True},\n",
    "                        headers={'Authorization': f\"Bearer {api_key}\"},\n",
    "                        verify=False).json()\n",
    "    R = []\n",
    "    for r in data[\"neighbors\"]:\n",
    "        R += [[r[\"smiles\"], r[\"zinc_id\"], r[\"Morgan Tanimoto\"]]]\n",
    "    df = pd.DataFrame(R, columns=[\"smiles\", \"identifier\", \"similarity\"]).sort_values(\"similarity\", ascending=False).reset_index(drop=True)\n",
    "    return df\n",
    "\n",
    "data = query_molecule(\"CC(=O)Oc1ccccc1C(=O)Oc1cncc(Cl)c1\")"
   ]
  },
  {
   "cell_type": "code",
   "execution_count": 64,
   "metadata": {},
   "outputs": [
    {
     "data": {
      "text/html": [
       "<div>\n",
       "<style scoped>\n",
       "    .dataframe tbody tr th:only-of-type {\n",
       "        vertical-align: middle;\n",
       "    }\n",
       "\n",
       "    .dataframe tbody tr th {\n",
       "        vertical-align: top;\n",
       "    }\n",
       "\n",
       "    .dataframe thead th {\n",
       "        text-align: right;\n",
       "    }\n",
       "</style>\n",
       "<table border=\"1\" class=\"dataframe\">\n",
       "  <thead>\n",
       "    <tr style=\"text-align: right;\">\n",
       "      <th></th>\n",
       "      <th>smiles</th>\n",
       "      <th>identifier</th>\n",
       "      <th>similarity</th>\n",
       "    </tr>\n",
       "  </thead>\n",
       "  <tbody>\n",
       "    <tr>\n",
       "      <th>0</th>\n",
       "      <td>CC(=O)Oc1ccccc1C(=O)Oc1ccc(Cl)cc1</td>\n",
       "      <td>ZINC15 : ZINC000004837786</td>\n",
       "      <td>0.666667</td>\n",
       "    </tr>\n",
       "    <tr>\n",
       "      <th>1</th>\n",
       "      <td>CC(=O)Oc1ccccc1C(=O)Oc1ccccc1</td>\n",
       "      <td>ZINC15 : ZINC000000351310</td>\n",
       "      <td>0.609756</td>\n",
       "    </tr>\n",
       "    <tr>\n",
       "      <th>2</th>\n",
       "      <td>CC(=O)Oc1ccccc1C(=O)Oc1ccc(F)cc1</td>\n",
       "      <td>ZINC15 : ZINC000004838930</td>\n",
       "      <td>0.568182</td>\n",
       "    </tr>\n",
       "    <tr>\n",
       "      <th>3</th>\n",
       "      <td>CC(=O)Oc1ccccc1C(=O)Oc1ccc(C)cc1</td>\n",
       "      <td>ZINC15 : ZINC000065733940</td>\n",
       "      <td>0.568182</td>\n",
       "    </tr>\n",
       "    <tr>\n",
       "      <th>4</th>\n",
       "      <td>CC(=O)Oc1ccccc1C(=O)Oc1ccc(Br)cc1</td>\n",
       "      <td>ZINC15 : ZINC000004857817</td>\n",
       "      <td>0.568182</td>\n",
       "    </tr>\n",
       "    <tr>\n",
       "      <th>...</th>\n",
       "      <td>...</td>\n",
       "      <td>...</td>\n",
       "      <td>...</td>\n",
       "    </tr>\n",
       "    <tr>\n",
       "      <th>95</th>\n",
       "      <td>CNC1=CC=C([N+](=O)[O-])C=C1C(=O)OCC1=CSC(C2CCC...</td>\n",
       "      <td>ENAMINE-REAL : Z937306534</td>\n",
       "      <td>0.148148</td>\n",
       "    </tr>\n",
       "    <tr>\n",
       "      <th>96</th>\n",
       "      <td>COC1=CC=C2C(=C1)C=C(C(=O)OCCC1(C#N)CC1)N2C</td>\n",
       "      <td>ENAMINE-REAL : Z5377156462</td>\n",
       "      <td>0.146667</td>\n",
       "    </tr>\n",
       "    <tr>\n",
       "      <th>97</th>\n",
       "      <td>COC1=CC=C2C(=C1)C=C(C(=O)OCC1OCCC1F)N2C</td>\n",
       "      <td>ENAMINE-REAL : Z5377156597</td>\n",
       "      <td>0.144737</td>\n",
       "    </tr>\n",
       "    <tr>\n",
       "      <th>98</th>\n",
       "      <td>COC(=O)C1=CSC=C1C(=O)OCC1=CC=C(N2CCOCC2)C=C1</td>\n",
       "      <td>ENAMINE-REAL : Z3010624760</td>\n",
       "      <td>0.142857</td>\n",
       "    </tr>\n",
       "    <tr>\n",
       "      <th>99</th>\n",
       "      <td>CCSC1=CC=C([N+](=O)[O-])C=C1C(=O)OCC1=CC=C2COC...</td>\n",
       "      <td>ENAMINE-REAL : Z1547589921</td>\n",
       "      <td>0.141026</td>\n",
       "    </tr>\n",
       "  </tbody>\n",
       "</table>\n",
       "<p>100 rows × 3 columns</p>\n",
       "</div>"
      ],
      "text/plain": [
       "                                               smiles  \\\n",
       "0                   CC(=O)Oc1ccccc1C(=O)Oc1ccc(Cl)cc1   \n",
       "1                       CC(=O)Oc1ccccc1C(=O)Oc1ccccc1   \n",
       "2                    CC(=O)Oc1ccccc1C(=O)Oc1ccc(F)cc1   \n",
       "3                    CC(=O)Oc1ccccc1C(=O)Oc1ccc(C)cc1   \n",
       "4                   CC(=O)Oc1ccccc1C(=O)Oc1ccc(Br)cc1   \n",
       "..                                                ...   \n",
       "95  CNC1=CC=C([N+](=O)[O-])C=C1C(=O)OCC1=CSC(C2CCC...   \n",
       "96         COC1=CC=C2C(=C1)C=C(C(=O)OCCC1(C#N)CC1)N2C   \n",
       "97            COC1=CC=C2C(=C1)C=C(C(=O)OCC1OCCC1F)N2C   \n",
       "98       COC(=O)C1=CSC=C1C(=O)OCC1=CC=C(N2CCOCC2)C=C1   \n",
       "99  CCSC1=CC=C([N+](=O)[O-])C=C1C(=O)OCC1=CC=C2COC...   \n",
       "\n",
       "                    identifier  similarity  \n",
       "0    ZINC15 : ZINC000004837786    0.666667  \n",
       "1    ZINC15 : ZINC000000351310    0.609756  \n",
       "2    ZINC15 : ZINC000004838930    0.568182  \n",
       "3    ZINC15 : ZINC000065733940    0.568182  \n",
       "4    ZINC15 : ZINC000004857817    0.568182  \n",
       "..                         ...         ...  \n",
       "95   ENAMINE-REAL : Z937306534    0.148148  \n",
       "96  ENAMINE-REAL : Z5377156462    0.146667  \n",
       "97  ENAMINE-REAL : Z5377156597    0.144737  \n",
       "98  ENAMINE-REAL : Z3010624760    0.142857  \n",
       "99  ENAMINE-REAL : Z1547589921    0.141026  \n",
       "\n",
       "[100 rows x 3 columns]"
      ]
     },
     "execution_count": 64,
     "metadata": {},
     "output_type": "execute_result"
    }
   ],
   "source": [
    "data"
   ]
  },
  {
   "cell_type": "code",
   "execution_count": null,
   "metadata": {},
   "outputs": [],
   "source": []
  }
 ],
 "metadata": {
  "kernelspec": {
   "display_name": "chempfn-paper",
   "language": "python",
   "name": "python3"
  },
  "language_info": {
   "codemirror_mode": {
    "name": "ipython",
    "version": 3
   },
   "file_extension": ".py",
   "mimetype": "text/x-python",
   "name": "python",
   "nbconvert_exporter": "python",
   "pygments_lexer": "ipython3",
   "version": "3.10.14"
  }
 },
 "nbformat": 4,
 "nbformat_minor": 2
}
