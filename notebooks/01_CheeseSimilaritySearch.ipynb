{
 "cells": [
  {
   "cell_type": "markdown",
   "metadata": {},
   "source": [
    "https://cheese-docs.deepmedchem.com/getting_started-api/"
   ]
  },
  {
   "cell_type": "code",
   "execution_count": null,
   "metadata": {},
   "outputs": [],
   "source": [
    "import os\n",
    "import pandas as pd\n",
    "from dotenv import load_dotenv\n",
    "import time\n",
    "from rdkit import Chem\n",
    "\n",
    "load_dotenv(\"../.env\")\n",
    "CHEESE_API_KEY = os.getenv(\"CHEESE_API_KEY\")"
   ]
  },
  {
   "cell_type": "code",
   "execution_count": null,
   "metadata": {},
   "outputs": [],
   "source": [
    "import requests\n",
    "\n",
    "\n",
    "def _query_molecule(smiles, search_type, search_quality, n_neighbors):\n",
    "    inchikey = Chem.MolToInchiKey(Chem.MolFromSmiles(smiles))\n",
    "    api_key = CHEESE_API_KEY\n",
    "    data = requests.get(\n",
    "        \"https://api.cheese.themama.ai/molsearch\",\n",
    "        {\n",
    "            \"search_input\": smiles,\n",
    "            \"search_type\": search_type,\n",
    "            \"n_neighbors\": n_neighbors,\n",
    "            \"search_quality\": search_quality,\n",
    "            \"descriptors\": False,\n",
    "            \"properties\": False,\n",
    "            \"filter_molecules\": True,\n",
    "        },\n",
    "        headers={\"Authorization\": f\"Bearer {api_key}\"},\n",
    "        verify=False,\n",
    "    ).json()\n",
    "    R = []\n",
    "    for r in data[\"neighbors\"]:\n",
    "        identifier = r[\"zinc_id\"]\n",
    "        if identifier.startswith(\"ZINC\"):\n",
    "            database = \"zinc15\"\n",
    "        elif identifier.startswith(\"ENAMINE\"):\n",
    "            database = \"enamine-real\"\n",
    "        else:\n",
    "            database = None\n",
    "        R += [\n",
    "            [\n",
    "                smiles,\n",
    "                inchikey,\n",
    "                r[\"smiles\"],\n",
    "                identifier,\n",
    "                search_type,\n",
    "                r[\"Morgan Tanimoto\"],\n",
    "                database,\n",
    "            ]\n",
    "        ]\n",
    "    df = (\n",
    "        pd.DataFrame(\n",
    "            R,\n",
    "            columns=[\n",
    "                \"query_smiles\",\n",
    "                \"query_inchikey\",\n",
    "                \"smiles\",\n",
    "                \"identifier\",\n",
    "                \"search_type\",\n",
    "                \"score\",\n",
    "                \"database\",\n",
    "            ],\n",
    "        )\n",
    "        .sort_values(\"score\", ascending=False)\n",
    "        .reset_index(drop=True)\n",
    "    )\n",
    "    return df\n",
    "\n",
    "\n",
    "def query_molecule(\n",
    "    smiles, search_type=\"consensus\", search_quality=\"very accurate\", n_neighbors=100\n",
    "):\n",
    "    for _ in range(10):\n",
    "        try:\n",
    "            df = _query_molecule(\n",
    "                smiles,\n",
    "                search_type=search_type,\n",
    "                search_quality=search_quality,\n",
    "                n_neighbors=n_neighbors,\n",
    "            )\n",
    "            if df.shape[0] == n_neighbors:\n",
    "                return df\n",
    "        except:\n",
    "            print(\"Error, retrying in 5 seconds\")\n",
    "            time.sleep(5)\n",
    "\n",
    "\n",
    "def query_molecule_all_similarities(\n",
    "    smiles, search_quality=\"very accurate\", n_neighbors=100\n",
    "):\n",
    "    search_types = [\"consensus\", \"morgan\", \"espsim_electrostatic\", \"espsim_shape\"]\n",
    "    dfs = []\n",
    "    for search_type in search_types:\n",
    "        print(smiles, search_type)\n",
    "        dfs += [\n",
    "            query_molecule(\n",
    "                smiles,\n",
    "                search_type=search_type,\n",
    "                search_quality=search_quality,\n",
    "                n_neighbors=n_neighbors,\n",
    "            )\n",
    "        ]\n",
    "    df = pd.concat(dfs).reset_index(drop=True)\n",
    "    return df\n",
    "\n",
    "\n",
    "def run(smiles):\n",
    "    inchikey = Chem.MolToInchiKey(Chem.MolFromSmiles(smiles))\n",
    "    file_name = os.path.join(\"..\", \"results\", \"cheese\", f\"{inchikey}.csv\")\n",
    "    if os.path.exists(file_name):\n",
    "        print(\"Already done for\", inchikey)\n",
    "        return\n",
    "    df = query_molecule_all_similarities(smiles)\n",
    "    df.to_csv(file_name, index=False)"
   ]
  },
  {
   "cell_type": "code",
   "execution_count": null,
   "metadata": {},
   "outputs": [],
   "source": [
    "smiles_list = pd.read_csv(\"../data/all_molecules.csv\")[\"smiles\"].tolist()"
   ]
  },
  {
   "cell_type": "code",
   "execution_count": null,
   "metadata": {},
   "outputs": [],
   "source": [
    "for smiles in smiles_list:\n",
    "    run(smiles)"
   ]
  },
  {
   "cell_type": "code",
   "execution_count": 1,
   "metadata": {},
   "outputs": [
    {
     "name": "stdout",
     "output_type": "stream",
     "text": [
      "Values present only in df1: 60\n",
      "Values present only in df2: 2\n"
     ]
    }
   ],
   "source": [
    "## REMOVE CHEESE QUERIES FOR SARSCOV1 MOLECULES\n",
    "# compare old vs new all molecules and keep the inchikeys of the ones only in old or only in new\n",
    "import pandas as pd\n",
    "\n",
    "df1 = pd.read_csv(\"../data/all_molecules_old.csv\")\n",
    "df2 = pd.read_csv(\"../data/all_molecules.csv\")\n",
    "\n",
    "# Convert inchikey columns to sets\n",
    "inchikey_set1 = set(df1[\"inchikey\"])\n",
    "inchikey_set2 = set(df2[\"inchikey\"])\n",
    "\n",
    "# Find values present only in df1\n",
    "only_in_df1 = list(inchikey_set1 - inchikey_set2)\n",
    "\n",
    "# Find values present only in df2\n",
    "only_in_df2 = list(inchikey_set2 - inchikey_set1)\n",
    "\n",
    "# Print the results\n",
    "print(\"Values present only in df1:\", len(only_in_df1))\n",
    "print(\"Values present only in df2:\", len(only_in_df2))"
   ]
  },
  {
   "cell_type": "code",
   "execution_count": 2,
   "metadata": {},
   "outputs": [
    {
     "data": {
      "text/plain": [
       "['VJEMOEYSQDKAQF-JDRYWMLESA-N', 'YTZALCGQUPRCGW-MXVXOLGGSA-N']"
      ]
     },
     "execution_count": 2,
     "metadata": {},
     "output_type": "execute_result"
    }
   ],
   "source": [
    "only_in_df2"
   ]
  },
  {
   "cell_type": "code",
   "execution_count": 3,
   "metadata": {},
   "outputs": [
    {
     "name": "stdout",
     "output_type": "stream",
     "text": [
      "File not found: ../results/cheese/QPFYXYFORQJZEC-FOCLMDBBSA-N.csv\n",
      "File not found: ../results/cheese/IPEHJNRNYPOFII-AZUAARDMSA-N.csv\n",
      "File not found: ../results/cheese/JGOLFGJFZZPEJI-UHFFFAOYSA-N.csv\n",
      "File not found: ../results/cheese/YVPXVXANRNDGTA-FICMROCWSA-N.csv\n",
      "File not found: ../results/cheese/LTMHDMANZUZIPE-PUGKRICDSA-N.csv\n",
      "File not found: ../results/cheese/DCYOADKBABEMIQ-OWMUPTOHSA-N.csv\n",
      "File not found: ../results/cheese/QXNWVJOHUAQHLM-AZUAARDMSA-N.csv\n",
      "File not found: ../results/cheese/PQBATSTYUATBBZ-DLCKZTKESA-N.csv\n",
      "File not found: ../results/cheese/AAZBNPTVFZEWKG-UHFFFAOYSA-N.csv\n",
      "File not found: ../results/cheese/MSTNVJDHQJXVFI-UHFFFAOYSA-N.csv\n",
      "File not found: ../results/cheese/LHYHMMRYTDARSZ-BYNSBNAKSA-N.csv\n",
      "File not found: ../results/cheese/OQQMSTMRSLAFMU-UHFFFAOYSA-N.csv\n",
      "File not found: ../results/cheese/JLEVVQRBEATTCM-UHFFFAOYSA-N.csv\n",
      "File not found: ../results/cheese/YJRPYTOREHMPPM-HRRASNIPSA-N.csv\n",
      "File not found: ../results/cheese/YTZALCGQUPRCGW-ZSFNYQMMSA-N.csv\n",
      "File not found: ../results/cheese/GLQYFMRUYWFXGT-ZGFARVGISA-N.csv\n",
      "File not found: ../results/cheese/AGJSNMGHAVDLRQ-HUUJSLGLSA-N.csv\n",
      "File not found: ../results/cheese/XFZJEEAOWLFHDH-UKWJTHFESA-N.csv\n",
      "File not found: ../results/cheese/OVSQVDMCBVZWGM-ZVIPYZFUSA-N.csv\n",
      "File not found: ../results/cheese/BUWRWZUUCOLPSX-UHFFFAOYSA-N.csv\n",
      "File not found: ../results/cheese/ODFCWXVQZAQDSO-CMKODMSKSA-N.csv\n",
      "File not found: ../results/cheese/PVMAFRKRHGVJOS-KHOZXUSZSA-N.csv\n",
      "File not found: ../results/cheese/BLZGPHNVMRXDCB-UXBLZVDNSA-N.csv\n",
      "File not found: ../results/cheese/XDUXBBDRILEIEZ-LJQANCHMSA-N.csv\n",
      "File not found: ../results/cheese/JNLQJJYMVWQTQR-UHFFFAOYSA-N.csv\n",
      "File not found: ../results/cheese/DXDRHHKMWQZJHT-FPYGCLRLSA-N.csv\n",
      "File not found: ../results/cheese/RTGDFNSFWBGLEC-SYZQJQIISA-N.csv\n",
      "File not found: ../results/cheese/ZEASWHWETFMWCV-ISBUVJFSSA-N.csv\n",
      "File not found: ../results/cheese/FMCAFXHLMUOIGG-JTJHWIPRSA-N.csv\n",
      "File not found: ../results/cheese/CZEPBGSMIRTHKN-KKSFZXQISA-N.csv\n",
      "File not found: ../results/cheese/QQPDXCYPIZYDKY-PAYXGYOQSA-N.csv\n",
      "File not found: ../results/cheese/AQRNEKDRSXYJIN-IRFILORWSA-N.csv\n",
      "File not found: ../results/cheese/WXLPIUFTKBWEGE-OKWWDJPNSA-N.csv\n",
      "File not found: ../results/cheese/ISHVJVXYPLFKAL-AZUAARDMSA-N.csv\n",
      "File not found: ../results/cheese/FMCAFXHLMUOIGG-IWFBPKFRSA-N.csv\n",
      "File not found: ../results/cheese/CVCLJVVBHYOXDC-IAZSKANUSA-N.csv\n",
      "File not found: ../results/cheese/PYJMYPPFWASOJX-UHFFFAOYSA-N.csv\n",
      "File not found: ../results/cheese/XFLTYUCKJRFDOU-XPMKZLBQSA-N.csv\n",
      "File not found: ../results/cheese/JJGAPUUIERNMBQ-SUUGVPPDSA-N.csv\n",
      "File not found: ../results/cheese/KCWHZHZEQUHBCW-OAHLLOKOSA-N.csv\n",
      "File not found: ../results/cheese/AGJSNMGHAVDLRQ-IWFBPKFRSA-N.csv\n",
      "File not found: ../results/cheese/HPNSFSBZBAHARI-RUDMXATFSA-N.csv\n",
      "File not found: ../results/cheese/ACGUYXCXAPNIKK-UHFFFAOYSA-N.csv\n",
      "File not found: ../results/cheese/AXNVHPCVMSNXNP-OXPBSUTMSA-N.csv\n",
      "File not found: ../results/cheese/QDAQTXSEIPFKEE-YCRREMRBSA-N.csv\n",
      "File not found: ../results/cheese/RATQVALKDAUZBW-XPMKZLBQSA-N.csv\n",
      "File not found: ../results/cheese/FHQSDRHZGCMBKG-FIYPYCPBSA-N.csv\n",
      "File not found: ../results/cheese/AJHWPFYAIBXMKJ-JCGIZDLHSA-N.csv\n",
      "File not found: ../results/cheese/PNQQDEFGJPUAGZ-UHFFFAOYSA-N.csv\n",
      "File not found: ../results/cheese/NSEWTSAADLNHNH-LSBOWGMISA-N.csv\n",
      "File not found: ../results/cheese/RZNMCGWGYUMEOL-HTKXOECOSA-N.csv\n",
      "File not found: ../results/cheese/CMOYAJUMLZJGHB-WUCHXUMNSA-N.csv\n",
      "File not found: ../results/cheese/LYPURLGLYLCBSU-VMPITWQZSA-N.csv\n",
      "File not found: ../results/cheese/INFKGIQNEZSZMS-ZBKSJXDOSA-N.csv\n",
      "File not found: ../results/cheese/KMJPKUVSXFVQGZ-WQLSNUALSA-N.csv\n",
      "File not found: ../results/cheese/GVKXFVCXBFGBCD-QKDMMWSPSA-N.csv\n",
      "File not found: ../results/cheese/ZSMYLYMVTJVQIR-SLFFLAALSA-N.csv\n",
      "File not found: ../results/cheese/QPHXPNUXTNHJOF-UHFFFAOYSA-N.csv\n",
      "File not found: ../results/cheese/FEALTYYKRMRXTG-QPJJXVBHSA-N.csv\n",
      "File not found: ../results/cheese/VXVNYCRICCVPTD-MULYGRJNSA-N.csv\n"
     ]
    }
   ],
   "source": [
    "import os\n",
    "\n",
    "for inchikey in only_in_df1:\n",
    "    file_path = os.path.join(\"../results/cheese\", f\"{inchikey}.csv\")\n",
    "    if os.path.isfile(file_path):\n",
    "        os.remove(file_path)\n",
    "        print(f\"Deleted file: {file_path}\")\n",
    "    else:\n",
    "        print(f\"File not found: {file_path}\")"
   ]
  },
  {
   "cell_type": "code",
   "execution_count": null,
   "metadata": {},
   "outputs": [],
   "source": []
  }
 ],
 "metadata": {
  "kernelspec": {
   "display_name": "chempfn-paper",
   "language": "python",
   "name": "python3"
  },
  "language_info": {
   "codemirror_mode": {
    "name": "ipython",
    "version": 3
   },
   "file_extension": ".py",
   "mimetype": "text/x-python",
   "name": "python",
   "nbconvert_exporter": "python",
   "pygments_lexer": "ipython3",
   "version": "3.10.14"
  }
 },
 "nbformat": 4,
 "nbformat_minor": 2
}
