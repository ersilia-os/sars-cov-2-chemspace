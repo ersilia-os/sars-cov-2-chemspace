{
 "cells": [
  {
   "cell_type": "code",
   "execution_count": 1,
   "metadata": {},
   "outputs": [],
   "source": [
    "import os\n",
    "import pandas as pd\n",
    "\n",
    "DATAPATH = \"../data\""
   ]
  },
  {
   "cell_type": "code",
   "execution_count": 2,
   "metadata": {},
   "outputs": [],
   "source": [
    "np = pd.read_csv(os.path.join(DATAPATH, \"original\", \"PCA\", \"np_pca_cleaned.csv\"))\n",
    "sd = pd.read_csv(os.path.join(DATAPATH, \"original\", \"PCA\", \"sd_pca_cleaned.csv\"))"
   ]
  },
  {
   "cell_type": "code",
   "execution_count": 3,
   "metadata": {},
   "outputs": [
    {
     "name": "stdout",
     "output_type": "stream",
     "text": [
      "619 618\n"
     ]
    }
   ],
   "source": [
    "#keep only np and sd present in the all molecules file\n",
    "\n",
    "df = pd.read_csv(os.path.join(DATAPATH, \"all_molecules.csv\"))\n",
    "np_names = df[df[\"category\"]==\"natural\"][\"file_name\"].tolist()\n",
    "sd_names = df[df[\"category\"]==\"synthetic\"][\"file_name\"].tolist()\n",
    "np[\"file_name\"] = [name.replace('.****', '').replace('.mol', '') for name in np[\"Title\"]]\n",
    "sd[\"file_name\"] = [name.replace('.****', '').replace('.mol', '') for name in sd[\"Title\"]]\n",
    "\n",
    "np_name_changes = {'Ancistrotanzanine-C': 'Ancistrotanzanine C',\n",
    " '26,27-Dinorergosta-5,23-dien-3-ol,(3beta)':'26,27-Dinorergosta-5,23-dien-3-ol,(3.beta)',\n",
    " 'Cryptobeilic-acid-C':'Cryptobeilic acid C',\n",
    " '26,27-Dinorergost-5-ene-3,24-diol,(3beta)':'26,27-Dinorergost-5-ene-3,24-diol,(3.beta)',\n",
    " 'J02_12-E':'J02_12_E',\n",
    " 'Androstan-17-one,3-ethyl-3-hydroxy,(5alpha)':'Androstan-17-one, 3-ethyl-3-hydroxy,(5alpha)',\n",
    " 'Annonidine-F':'Annonidine F',\n",
    " 'J02_12-Z':'J02_12_Z',\n",
    " 'Jubanine H': 'Jubanine B', \n",
    " '162727': 'MCSJ37_0012'}\n",
    "\n",
    "sd_name_changes = {'Orotic-acid': 'Orotic acid',\n",
    " 'Taribavirin-Hydrochloride': 'Taribavirin Hydrochloride',\n",
    " 'LY411575':'LY411575 ',\n",
    " 'Chloramphenicol-succinate':'Chloramphenicol succinate'}\n",
    "\n",
    "np['file_name'] = np['file_name'].replace(np_name_changes)\n",
    "sd['file_name'] = sd['file_name'].replace(sd_name_changes)\n",
    "\n",
    "np_final = np[np[\"file_name\"].isin(np_names)]\n",
    "sd_final = sd[sd[\"file_name\"].isin(sd_names)]\n",
    "print(len(np_final), len(sd_final))"
   ]
  },
  {
   "cell_type": "code",
   "execution_count": 4,
   "metadata": {},
   "outputs": [
    {
     "data": {
      "text/plain": [
       "set()"
      ]
     },
     "execution_count": 4,
     "metadata": {},
     "output_type": "execute_result"
    }
   ],
   "source": [
    "set(np_names)-set(np[\"file_name\"].tolist())"
   ]
  },
  {
   "cell_type": "code",
   "execution_count": 5,
   "metadata": {},
   "outputs": [
    {
     "name": "stdout",
     "output_type": "stream",
     "text": [
      "114\n",
      "97\n"
     ]
    }
   ],
   "source": [
    "targets = list(set(list(set(np_final[\"Target\"].tolist()))+list(set(sd_final[\"Target\"].tolist()))))\n",
    "print(len(targets))\n",
    "deconvoluted_targets= [item for sublist in targets for item in sublist.split(';')]\n",
    "deconvoluted_targets = [item.strip() for item in deconvoluted_targets]\n",
    "deconvoluted_targets=list(set(deconvoluted_targets))\n",
    "print(len(deconvoluted_targets))\n",
    "df = pd.DataFrame({\"target\": deconvoluted_targets})\n",
    "df.sort_values(by=[\"target\"], inplace=True)\n",
    "df.to_csv(os.path.join(DATAPATH, \"all_targets.csv\"), index=False)"
   ]
  },
  {
   "cell_type": "code",
   "execution_count": null,
   "metadata": {},
   "outputs": [],
   "source": []
  }
 ],
 "metadata": {
  "kernelspec": {
   "display_name": "chem",
   "language": "python",
   "name": "python3"
  },
  "language_info": {
   "codemirror_mode": {
    "name": "ipython",
    "version": 3
   },
   "file_extension": ".py",
   "mimetype": "text/x-python",
   "name": "python",
   "nbconvert_exporter": "python",
   "pygments_lexer": "ipython3",
   "version": "3.11.8"
  }
 },
 "nbformat": 4,
 "nbformat_minor": 2
}
