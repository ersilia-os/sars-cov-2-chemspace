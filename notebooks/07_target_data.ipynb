{
 "cells": [
  {
   "cell_type": "code",
   "execution_count": 1,
   "metadata": {},
   "outputs": [],
   "source": [
    "import os\n",
    "import pandas as pd\n",
    "\n",
    "DATAPATH = \"../data\""
   ]
  },
  {
   "cell_type": "code",
   "execution_count": 2,
   "metadata": {},
   "outputs": [],
   "source": [
    "np = pd.read_csv(os.path.join(DATAPATH, \"original\", \"PCA\", \"np_pca_cleaned.csv\"))\n",
    "sd = pd.read_csv(os.path.join(DATAPATH, \"original\", \"PCA\", \"sd_pca_cleaned.csv\"))"
   ]
  },
  {
   "cell_type": "code",
   "execution_count": 19,
   "metadata": {},
   "outputs": [
    {
     "name": "stdout",
     "output_type": "stream",
     "text": [
      "117\n",
      "101\n"
     ]
    }
   ],
   "source": [
    "targets = list(set(list(set(np[\"Target\"].tolist()))+list(set(sd[\"Target\"].tolist()))))\n",
    "print(len(targets))\n",
    "deconvoluted_targets= [item for sublist in targets for item in sublist.split(';')]\n",
    "deconvoluted_targets = [item.strip() for item in deconvoluted_targets]\n",
    "deconvoluted_targets=list(set(deconvoluted_targets))\n",
    "print(len(deconvoluted_targets))\n",
    "df = pd.DataFrame({\"target\": deconvoluted_targets})\n",
    "df.to_csv(os.path.join(DATAPATH, \"all_targets.csv\"), index=False)"
   ]
  }
 ],
 "metadata": {
  "kernelspec": {
   "display_name": "chem",
   "language": "python",
   "name": "python3"
  },
  "language_info": {
   "codemirror_mode": {
    "name": "ipython",
    "version": 3
   },
   "file_extension": ".py",
   "mimetype": "text/x-python",
   "name": "python",
   "nbconvert_exporter": "python",
   "pygments_lexer": "ipython3",
   "version": "3.11.8"
  }
 },
 "nbformat": 4,
 "nbformat_minor": 2
}
