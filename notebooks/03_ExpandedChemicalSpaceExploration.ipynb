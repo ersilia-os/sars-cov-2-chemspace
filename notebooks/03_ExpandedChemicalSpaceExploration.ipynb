{
 "cells": [
  {
   "cell_type": "markdown",
   "metadata": {},
   "source": [
    "# Expanded Chemical Space Exploration\n",
    "\n",
    "Here we analyse the chemical space associated with the CHEESE similarity search results."
   ]
  },
  {
   "cell_type": "code",
   "execution_count": 19,
   "metadata": {},
   "outputs": [],
   "source": [
    "import pandas as pd\n",
    "from tqdm import tqdm\n",
    "import numpy as np\n",
    "\n",
    "df = pd.read_csv(\"../results/cheese_search.csv\")\n",
    "\n",
    "databases = [\"zinc15\", \"enamine-real\"]\n",
    "categories = [\"natural\", \"synthetic\"]\n",
    "search_types = [\"consensus\", \"morgan\", \"espsim_shape\", \"espsim_electrostatic\"]"
   ]
  },
  {
   "cell_type": "code",
   "execution_count": 24,
   "metadata": {},
   "outputs": [],
   "source": [
    "# Get aggregate statistics\n",
    "\n",
    "R = []\n",
    "for database in databases:\n",
    "    for category in categories:\n",
    "        for search_type in search_types:\n",
    "            df_ = df[df[\"database\"] == database]\n",
    "            df_ = df_[df_[\"query_category\"] == category]\n",
    "            df_ = df_[df_[\"search_type\"] == search_type]\n",
    "            r = [\n",
    "                database,\n",
    "                category,\n",
    "                search_type,\n",
    "                df_.shape[0],\n",
    "                df_[\"score\"].mean(),\n",
    "                df_[\"score\"].std(),\n",
    "                df_[\"score\"].median(),\n",
    "                np.percentile(df_[\"score\"], 25),\n",
    "                np.percentile(df_[\"score\"], 75),\n",
    "                df_[\"score\"].min(),\n",
    "                df_[\"score\"].max(),\n",
    "            ]\n",
    "            R.append(r)\n",
    "\n",
    "dr = pd.DataFrame(\n",
    "    R,\n",
    "    columns=[\n",
    "        \"database\",\n",
    "        \"category\",\n",
    "        \"search_type\",\n",
    "        \"counts\",\n",
    "        \"mean\",\n",
    "        \"std\",\n",
    "        \"median\",\n",
    "        \"perc_25\",\n",
    "        \"perc_75\",\n",
    "        \"min\",\n",
    "        \"max\",\n",
    "    ],\n",
    ")\n",
    "\n",
    "dr.to_csv(\"../results/cheese_search_aggregate.csv\", index=False)"
   ]
  },
  {
   "cell_type": "code",
   "execution_count": null,
   "metadata": {},
   "outputs": [],
   "source": []
  }
 ],
 "metadata": {
  "kernelspec": {
   "display_name": "chemcrow",
   "language": "python",
   "name": "python3"
  },
  "language_info": {
   "codemirror_mode": {
    "name": "ipython",
    "version": 3
   },
   "file_extension": ".py",
   "mimetype": "text/x-python",
   "name": "python",
   "nbconvert_exporter": "python",
   "pygments_lexer": "ipython3",
   "version": "3.10.14"
  }
 },
 "nbformat": 4,
 "nbformat_minor": 2
}
