{
 "cells": [
  {
   "cell_type": "code",
   "execution_count": 2,
   "metadata": {},
   "outputs": [],
   "source": [
    "import os\n",
    "import pandas as pd\n",
    "import rdkit\n",
    "from standardiser import standardise\n",
    "from rdkit import RDLogger\n",
    "\n",
    "RDLogger.DisableLog('rdApp.*')                                                                                                                                                           \n",
    "\n",
    "data_dir = os.path.join('..', 'data')\n",
    "np_dir = os.path.join(data_dir, 'all', 'NP2')\n",
    "sd_dir = os.path.join(data_dir, 'all', 'SD2')"
   ]
  },
  {
   "cell_type": "code",
   "execution_count": 3,
   "metadata": {},
   "outputs": [
    {
     "name": "stderr",
     "output_type": "stream",
     "text": [
      "[15/07/24 12:44:29 standardiser.neutralise WARNING] zwitterion with more negative charges than quaternary positive centres detected\n"
     ]
    },
    {
     "name": "stdout",
     "output_type": "stream",
     "text": [
      "Number of non-standardized molecules (skipped) 90\n",
      "Number of non-standardized molecules (skipped) 159\n"
     ]
    }
   ],
   "source": [
    "def molecule_loader(subfolder):\n",
    "    sdf_paths = []\n",
    "    mol_paths = []\n",
    "    mol2_paths = []\n",
    "    names = []\n",
    "    for fn in os.listdir(subfolder):\n",
    "        if fn.endswith(\".sdf\"):\n",
    "            sdf_paths.append(os.path.join(subfolder, fn))\n",
    "            names += [fn[:-4]]\n",
    "        if fn.endswith(\".mol\"):\n",
    "            mol_paths.append(os.path.join(subfolder, fn))\n",
    "            names += [fn[:-4]]\n",
    "        if fn.endswith(\".mol2\"):\n",
    "            mol2_paths.append(os.path.join(subfolder, fn))\n",
    "            names += [fn[:-5]]\n",
    "    mols = []\n",
    "    for sdf_path in sdf_paths:\n",
    "        mols.append(rdkit.Chem.SDMolSupplier(sdf_path))\n",
    "    for mol_path in mol_paths:\n",
    "        mols.append(rdkit.Chem.MolFromMolFile(mol_path))\n",
    "    for mol2_path in mol2_paths:\n",
    "        mols.append(rdkit.Chem.MolFromMol2File(mol2_path))\n",
    "    mols_ = []\n",
    "    c = 0\n",
    "    for i, mol in enumerate(mols):\n",
    "        try:\n",
    "            mol = standardise.run(mol)\n",
    "            if mol is not None:\n",
    "                mols_ += [(names[i], mol)]\n",
    "        except:\n",
    "            c += 1\n",
    "            continue\n",
    "    print(\"Number of non-standardized molecules (skipped) {0}\".format(c))\n",
    "    return mols_\n",
    "\n",
    "np_mols = molecule_loader(sd_dir)\n",
    "sd_mols = molecule_loader(np_dir)\n",
    "\n",
    "def mols_to_table(mols, category):\n",
    "    mols_ = []\n",
    "    for name, mol in mols:\n",
    "        mols_ += [(name, rdkit.Chem.MolToInchiKey(mol), rdkit.Chem.MolToSmiles(mol), category)]\n",
    "    df = pd.DataFrame(mols_, columns=['file_name', \"inchikey\", 'smiles', \"category\"])\n",
    "    return df\n",
    "\n",
    "np_df = mols_to_table(np_mols, \"natural\")\n",
    "sd_df = mols_to_table(sd_mols, \"synthetic\")\n",
    "\n",
    "df = pd.concat([np_df, sd_df]).drop_duplicates().reset_index(drop=True)"
   ]
  },
  {
   "cell_type": "code",
   "execution_count": 4,
   "metadata": {},
   "outputs": [],
   "source": [
    "df.to_csv(os.path.join(data_dir, 'all_molecules.csv'), index=False)"
   ]
  },
  {
   "cell_type": "code",
   "execution_count": null,
   "metadata": {},
   "outputs": [],
   "source": []
  }
 ],
 "metadata": {
  "kernelspec": {
   "display_name": "chempfn-paper",
   "language": "python",
   "name": "python3"
  },
  "language_info": {
   "codemirror_mode": {
    "name": "ipython",
    "version": 3
   },
   "file_extension": ".py",
   "mimetype": "text/x-python",
   "name": "python",
   "nbconvert_exporter": "python",
   "pygments_lexer": "ipython3",
   "version": "3.11.8"
  }
 },
 "nbformat": 4,
 "nbformat_minor": 2
}
