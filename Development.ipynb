{
 "cells": [
  {
   "cell_type": "code",
   "execution_count": 7,
   "metadata": {},
   "outputs": [],
   "source": [
    "import pandas as pd\n",
    "import numpy as np\n",
    "\n",
    "df = pd.read_csv(\"results/cheese_search.csv\")"
   ]
  },
  {
   "cell_type": "code",
   "execution_count": 5,
   "metadata": {},
   "outputs": [
    {
     "data": {
      "text/html": [
       "<div>\n",
       "<style scoped>\n",
       "    .dataframe tbody tr th:only-of-type {\n",
       "        vertical-align: middle;\n",
       "    }\n",
       "\n",
       "    .dataframe tbody tr th {\n",
       "        vertical-align: top;\n",
       "    }\n",
       "\n",
       "    .dataframe thead th {\n",
       "        text-align: right;\n",
       "    }\n",
       "</style>\n",
       "<table border=\"1\" class=\"dataframe\">\n",
       "  <thead>\n",
       "    <tr style=\"text-align: right;\">\n",
       "      <th></th>\n",
       "      <th>query_name</th>\n",
       "      <th>query_category</th>\n",
       "      <th>query_is_synthetic</th>\n",
       "      <th>query_is_natural</th>\n",
       "      <th>query_smiles</th>\n",
       "      <th>query_inchikey</th>\n",
       "      <th>smiles</th>\n",
       "      <th>inchikey</th>\n",
       "      <th>identifier</th>\n",
       "      <th>search_type</th>\n",
       "      <th>score</th>\n",
       "      <th>database</th>\n",
       "    </tr>\n",
       "  </thead>\n",
       "  <tbody>\n",
       "  </tbody>\n",
       "</table>\n",
       "</div>"
      ],
      "text/plain": [
       "Empty DataFrame\n",
       "Columns: [query_name, query_category, query_is_synthetic, query_is_natural, query_smiles, query_inchikey, smiles, inchikey, identifier, search_type, score, database]\n",
       "Index: []"
      ]
     },
     "execution_count": 5,
     "metadata": {},
     "output_type": "execute_result"
    }
   ],
   "source": [
    "df[df[\"score\"].isna()]"
   ]
  },
  {
   "cell_type": "code",
   "execution_count": 11,
   "metadata": {},
   "outputs": [
    {
     "name": "stdout",
     "output_type": "stream",
     "text": [
      "zinc15 natural consensus (54747, 12)\n",
      "zinc15 natural morgan (53686, 12)\n",
      "zinc15 natural espsim_shape (54854, 12)\n",
      "zinc15 natural espsim_electrostatic (52892, 12)\n",
      "zinc15 synthetic consensus (48285, 12)\n",
      "zinc15 synthetic morgan (46790, 12)\n",
      "zinc15 synthetic espsim_shape (47535, 12)\n",
      "zinc15 synthetic espsim_electrostatic (46620, 12)\n",
      "enamine-real natural consensus (6853, 12)\n",
      "enamine-real natural morgan (7914, 12)\n",
      "enamine-real natural espsim_shape (6746, 12)\n",
      "enamine-real natural espsim_electrostatic (8708, 12)\n",
      "enamine-real synthetic consensus (13115, 12)\n",
      "enamine-real synthetic morgan (14610, 12)\n",
      "enamine-real synthetic espsim_shape (13865, 12)\n",
      "enamine-real synthetic espsim_electrostatic (14780, 12)\n"
     ]
    }
   ],
   "source": [
    "databases = [\"zinc15\", \"enamine-real\"]\n",
    "categories = [\"natural\", \"synthetic\"]\n",
    "search_types = [\"consensus\", \"morgan\", \"espsim_shape\", \"espsim_electrostatic\"]\n",
    "\n",
    "R = []\n",
    "for database in databases:\n",
    "    for category in categories:\n",
    "        for search_type in search_types:\n",
    "            df_ = df[df[\"database\"] == database]\n",
    "            df_ = df_[df_[\"query_category\"] == category]\n",
    "            df_ = df_[df_[\"search_type\"] == search_type]\n",
    "            print(database, category, search_type, df_.shape)\n",
    "            r = [\n",
    "                database,\n",
    "                category,\n",
    "                search_type,\n",
    "                df_.shape[0],\n",
    "                df_[\"score\"].mean(),\n",
    "                df_[\"score\"].std(),\n",
    "                df_[\"score\"].median(),\n",
    "                np.percentile(df_[\"score\"], 25),\n",
    "                np.percentile(df_[\"score\"], 75),\n",
    "                df_[\"score\"].min(),\n",
    "                df_[\"score\"].max(),\n",
    "            ]\n",
    "            R.append(r)\n",
    "\n",
    "dr = pd.DataFrame(\n",
    "    R,\n",
    "    columns=[\n",
    "        \"database\",\n",
    "        \"category\",\n",
    "        \"search_type\",\n",
    "        \"counts\",\n",
    "        \"mean\",\n",
    "        \"std\",\n",
    "        \"median\",\n",
    "        \"perc_25\",\n",
    "        \"perc_75\",\n",
    "        \"min\",\n",
    "        \"max\",\n",
    "    ],\n",
    ")"
   ]
  },
  {
   "cell_type": "code",
   "execution_count": 12,
   "metadata": {},
   "outputs": [],
   "source": [
    "df = pd.read_csv(\"data/all_molecules.csv\")"
   ]
  },
  {
   "cell_type": "code",
   "execution_count": 15,
   "metadata": {},
   "outputs": [],
   "source": [
    "inchikeys = df[df[\"inchikey\"].notnull()][\"inchikey\"].tolist()"
   ]
  },
  {
   "cell_type": "code",
   "execution_count": 18,
   "metadata": {},
   "outputs": [
    {
     "name": "stdout",
     "output_type": "stream",
     "text": [
      "UFSFMAGHSICXPO-JKSUJKDBSA-N\n",
      "VGXSMNGRTUVBEM-HUUCEWRRSA-N\n",
      "QMGVPVSNSZLJIA-PHUPLSIUSA-N\n",
      "OGLDWXZKYODSOB-SNVBAGLBSA-N\n",
      "KNBFSNMCVZEFQV-UHFFFAOYSA-N\n",
      "WFGPORVQVWWMCB-XNTDXEJSSA-N\n",
      "OLWNJQQHRIBOFY-UHFFFAOYSA-N\n"
     ]
    }
   ],
   "source": [
    "import os\n",
    "for ik in inchikeys:\n",
    "    if not os.path.exists(\"results/cheese/{}.csv\".format(ik)):\n",
    "        print(ik)"
   ]
  },
  {
   "cell_type": "code",
   "execution_count": null,
   "metadata": {},
   "outputs": [],
   "source": []
  }
 ],
 "metadata": {
  "kernelspec": {
   "display_name": "bdfigs",
   "language": "python",
   "name": "python3"
  },
  "language_info": {
   "codemirror_mode": {
    "name": "ipython",
    "version": 3
   },
   "file_extension": ".py",
   "mimetype": "text/x-python",
   "name": "python",
   "nbconvert_exporter": "python",
   "pygments_lexer": "ipython3",
   "version": "3.10.10"
  }
 },
 "nbformat": 4,
 "nbformat_minor": 2
}
